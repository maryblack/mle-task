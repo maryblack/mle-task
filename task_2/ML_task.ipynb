{
 "cells": [
  {
   "cell_type": "code",
   "execution_count": 497,
   "id": "1d721373",
   "metadata": {},
   "outputs": [],
   "source": [
    "import pandas as pd\n",
    "import numpy as np\n",
    "\n",
    "# from sklearn.feature_extraction.text import TfidfVectorizer\n",
    "from sklearn.preprocessing import LabelEncoder\n",
    "from sklearn.metrics import classification_report, confusion_matrix, accuracy_score\n",
    "from sklearn.model_selection import train_test_split"
   ]
  },
  {
   "cell_type": "code",
   "execution_count": 471,
   "id": "5a76cc4c",
   "metadata": {},
   "outputs": [],
   "source": [
    "!pip3 freeze > requirements.txt"
   ]
  },
  {
   "cell_type": "code",
   "execution_count": 494,
   "id": "1a63b87f",
   "metadata": {},
   "outputs": [],
   "source": [
    "df = pd.read_csv(\"../testset_C.csv\", sep=\";\")"
   ]
  },
  {
   "cell_type": "code",
   "execution_count": 502,
   "id": "f09d980c",
   "metadata": {},
   "outputs": [
    {
     "data": {
      "text/html": [
       "<div>\n",
       "<style scoped>\n",
       "    .dataframe tbody tr th:only-of-type {\n",
       "        vertical-align: middle;\n",
       "    }\n",
       "\n",
       "    .dataframe tbody tr th {\n",
       "        vertical-align: top;\n",
       "    }\n",
       "\n",
       "    .dataframe thead th {\n",
       "        text-align: right;\n",
       "    }\n",
       "</style>\n",
       "<table border=\"1\" class=\"dataframe\">\n",
       "  <thead>\n",
       "    <tr style=\"text-align: right;\">\n",
       "      <th></th>\n",
       "      <th>id</th>\n",
       "      <th>productgroup</th>\n",
       "      <th>main_text</th>\n",
       "      <th>add_text</th>\n",
       "      <th>manufacturer</th>\n",
       "    </tr>\n",
       "  </thead>\n",
       "  <tbody>\n",
       "    <tr>\n",
       "      <th>0</th>\n",
       "      <td>26229701</td>\n",
       "      <td>WASHINGMACHINES</td>\n",
       "      <td>WAQ284E25</td>\n",
       "      <td>WASCHMASCHINEN</td>\n",
       "      <td>BOSCH</td>\n",
       "    </tr>\n",
       "    <tr>\n",
       "      <th>1</th>\n",
       "      <td>16576864</td>\n",
       "      <td>USB MEMORY</td>\n",
       "      <td>LEEF IBRIDGE MOBILE SPEICHERERWEITERUNG FUER I...</td>\n",
       "      <td>PC__1100COMPUTINGMEMORY__1110MEMORYCARDS</td>\n",
       "      <td>LEEF</td>\n",
       "    </tr>\n",
       "    <tr>\n",
       "      <th>2</th>\n",
       "      <td>26155618</td>\n",
       "      <td>USB MEMORY</td>\n",
       "      <td>SANDISK 32GB ULTRA FIT USB 3.0</td>\n",
       "      <td>W1370</td>\n",
       "      <td>NaN</td>\n",
       "    </tr>\n",
       "    <tr>\n",
       "      <th>3</th>\n",
       "      <td>25646138</td>\n",
       "      <td>BICYCLES</td>\n",
       "      <td>HOLLANDRAD DAMEN 28 ZOLL TUSSAUD 3-GAENGE RH 5...</td>\n",
       "      <td>FAHRRAEDER // SPORTFAHRRAEDER</td>\n",
       "      <td>SCHALOW &amp; KROH GMBH</td>\n",
       "    </tr>\n",
       "    <tr>\n",
       "      <th>4</th>\n",
       "      <td>19764614</td>\n",
       "      <td>BICYCLES</td>\n",
       "      <td>DAHON SPEED D7 SCHWARZ ? FALTRAD</td>\n",
       "      <td>SPORTS__30000WHEELED__30070BIKES</td>\n",
       "      <td>DAHON</td>\n",
       "    </tr>\n",
       "    <tr>\n",
       "      <th>...</th>\n",
       "      <td>...</td>\n",
       "      <td>...</td>\n",
       "      <td>...</td>\n",
       "      <td>...</td>\n",
       "      <td>...</td>\n",
       "    </tr>\n",
       "    <tr>\n",
       "      <th>7995</th>\n",
       "      <td>61028716</td>\n",
       "      <td>BICYCLES</td>\n",
       "      <td>TOPSY KINDERRAD 12 1/2 POLARWEISS O O O  419640</td>\n",
       "      <td>H006W0792344__WERKZEUG_AUTO/FAHRRAD_FAHRRAEDER</td>\n",
       "      <td>SI-ZWEIRAD-VERTRIEBS GMBH</td>\n",
       "    </tr>\n",
       "    <tr>\n",
       "      <th>7996</th>\n",
       "      <td>37734138</td>\n",
       "      <td>BICYCLES</td>\n",
       "      <td>CREME ECHO SOLO 16-SPEED WHITE</td>\n",
       "      <td>FAHRRAEDER&gt;&gt;RENNRAEDER&gt;&gt;RENNRAEDER</td>\n",
       "      <td>CREME</td>\n",
       "    </tr>\n",
       "    <tr>\n",
       "      <th>7997</th>\n",
       "      <td>17891755</td>\n",
       "      <td>CONTACT LENSES</td>\n",
       "      <td>ACUVUE 1-DAY MOIST TAGESLINSEN WEICH, 30 STUEC...</td>\n",
       "      <td>HEALTH&amp;PERSONALCARE__3100OPTICS__3101SPHERICCO...</td>\n",
       "      <td>JOHNSON &amp; JOHNSON</td>\n",
       "    </tr>\n",
       "    <tr>\n",
       "      <th>7998</th>\n",
       "      <td>42298563</td>\n",
       "      <td>BICYCLES</td>\n",
       "      <td>UNIVEGA TERRENO 1.0 HE MATTBLAUGRAU 45 CM</td>\n",
       "      <td>1_7_4</td>\n",
       "      <td>UNIVEGA</td>\n",
       "    </tr>\n",
       "    <tr>\n",
       "      <th>7999</th>\n",
       "      <td>26300286</td>\n",
       "      <td>WASHINGMACHINES</td>\n",
       "      <td>LAVAMAT 63479 FL A+++ WASCHVOLLAUTOMAT</td>\n",
       "      <td>WASCHMASCHINEN</td>\n",
       "      <td>AEG</td>\n",
       "    </tr>\n",
       "  </tbody>\n",
       "</table>\n",
       "<p>8000 rows × 5 columns</p>\n",
       "</div>"
      ],
      "text/plain": [
       "            id     productgroup  \\\n",
       "0     26229701  WASHINGMACHINES   \n",
       "1     16576864       USB MEMORY   \n",
       "2     26155618       USB MEMORY   \n",
       "3     25646138         BICYCLES   \n",
       "4     19764614         BICYCLES   \n",
       "...        ...              ...   \n",
       "7995  61028716         BICYCLES   \n",
       "7996  37734138         BICYCLES   \n",
       "7997  17891755   CONTACT LENSES   \n",
       "7998  42298563         BICYCLES   \n",
       "7999  26300286  WASHINGMACHINES   \n",
       "\n",
       "                                              main_text  \\\n",
       "0                                             WAQ284E25   \n",
       "1     LEEF IBRIDGE MOBILE SPEICHERERWEITERUNG FUER I...   \n",
       "2                        SANDISK 32GB ULTRA FIT USB 3.0   \n",
       "3     HOLLANDRAD DAMEN 28 ZOLL TUSSAUD 3-GAENGE RH 5...   \n",
       "4                      DAHON SPEED D7 SCHWARZ ? FALTRAD   \n",
       "...                                                 ...   \n",
       "7995    TOPSY KINDERRAD 12 1/2 POLARWEISS O O O  419640   \n",
       "7996                     CREME ECHO SOLO 16-SPEED WHITE   \n",
       "7997  ACUVUE 1-DAY MOIST TAGESLINSEN WEICH, 30 STUEC...   \n",
       "7998          UNIVEGA TERRENO 1.0 HE MATTBLAUGRAU 45 CM   \n",
       "7999             LAVAMAT 63479 FL A+++ WASCHVOLLAUTOMAT   \n",
       "\n",
       "                                               add_text  \\\n",
       "0                                        WASCHMASCHINEN   \n",
       "1              PC__1100COMPUTINGMEMORY__1110MEMORYCARDS   \n",
       "2                                                 W1370   \n",
       "3                         FAHRRAEDER // SPORTFAHRRAEDER   \n",
       "4                      SPORTS__30000WHEELED__30070BIKES   \n",
       "...                                                 ...   \n",
       "7995     H006W0792344__WERKZEUG_AUTO/FAHRRAD_FAHRRAEDER   \n",
       "7996                 FAHRRAEDER>>RENNRAEDER>>RENNRAEDER   \n",
       "7997  HEALTH&PERSONALCARE__3100OPTICS__3101SPHERICCO...   \n",
       "7998                                              1_7_4   \n",
       "7999                                     WASCHMASCHINEN   \n",
       "\n",
       "                   manufacturer  \n",
       "0                         BOSCH  \n",
       "1                          LEEF  \n",
       "2                           NaN  \n",
       "3           SCHALOW & KROH GMBH  \n",
       "4                         DAHON  \n",
       "...                         ...  \n",
       "7995  SI-ZWEIRAD-VERTRIEBS GMBH  \n",
       "7996                      CREME  \n",
       "7997          JOHNSON & JOHNSON  \n",
       "7998                    UNIVEGA  \n",
       "7999                        AEG  \n",
       "\n",
       "[8000 rows x 5 columns]"
      ]
     },
     "execution_count": 502,
     "metadata": {},
     "output_type": "execute_result"
    }
   ],
   "source": [
    "df"
   ]
  },
  {
   "cell_type": "code",
   "execution_count": 410,
   "id": "f785de79",
   "metadata": {},
   "outputs": [
    {
     "data": {
      "text/plain": [
       "WASHINGMACHINES    0.25\n",
       "USB MEMORY         0.25\n",
       "BICYCLES           0.25\n",
       "CONTACT LENSES     0.25\n",
       "Name: productgroup, dtype: float64"
      ]
     },
     "execution_count": 410,
     "metadata": {},
     "output_type": "execute_result"
    }
   ],
   "source": [
    "df.productgroup.value_counts(normalize=True)"
   ]
  },
  {
   "cell_type": "code",
   "execution_count": 411,
   "id": "afdec750",
   "metadata": {},
   "outputs": [
    {
     "data": {
      "text/plain": [
       "WASHINGMACHINES    2000\n",
       "USB MEMORY         2000\n",
       "BICYCLES           2000\n",
       "CONTACT LENSES     2000\n",
       "Name: productgroup, dtype: int64"
      ]
     },
     "execution_count": 411,
     "metadata": {},
     "output_type": "execute_result"
    }
   ],
   "source": [
    "df.productgroup.value_counts()"
   ]
  },
  {
   "cell_type": "code",
   "execution_count": 412,
   "id": "346f36bc",
   "metadata": {},
   "outputs": [
    {
     "data": {
      "text/plain": [
       "(8000, 8000)"
      ]
     },
     "execution_count": 412,
     "metadata": {},
     "output_type": "execute_result"
    }
   ],
   "source": [
    "len(df.id.unique()), len(df)"
   ]
  },
  {
   "cell_type": "code",
   "execution_count": 413,
   "id": "e5eb1011",
   "metadata": {},
   "outputs": [],
   "source": [
    "df[\"main_text\"] = df[\"main_text\"].str.lower()\n",
    "df[\"add_text\"] = df[\"add_text\"].str.lower()\n",
    "df[\"manufacturer\"] = df[\"manufacturer\"].str.lower()\n",
    "df[\"manufacturer\"] = df[\"manufacturer\"].fillna(\"unknown\")"
   ]
  },
  {
   "cell_type": "code",
   "execution_count": 414,
   "id": "2470353f",
   "metadata": {},
   "outputs": [],
   "source": [
    "df[\"text\"] = df[\"main_text\"] + \" \" + df[\"add_text\"] + \" \" + df[\"manufacturer\"]\n",
    "df[\"text\"] = df[\"text\"].fillna(\"missed\")"
   ]
  },
  {
   "cell_type": "markdown",
   "id": "a7b2f512",
   "metadata": {},
   "source": [
    "## Use main words to create binary features"
   ]
  },
  {
   "cell_type": "code",
   "execution_count": 415,
   "id": "8828efc0",
   "metadata": {},
   "outputs": [],
   "source": [
    "df[\"is_usb\"] = (\n",
    "    df[\"text\"].str.contains(\"usb\") \n",
    "    | df[\"text\"].str.contains(\"memory\") \n",
    "    | df[\"text\"].str.contains(\"datentraeger\") \n",
    "    | df[\"text\"].str.contains(\"speicher\")\n",
    "    | df[\"text\"].str.contains(\"storage\")\n",
    ").astype(\"int\")"
   ]
  },
  {
   "cell_type": "code",
   "execution_count": 416,
   "id": "f78677d4",
   "metadata": {},
   "outputs": [
    {
     "data": {
      "text/plain": [
       "0    6076\n",
       "1    1924\n",
       "Name: is_usb, dtype: int64"
      ]
     },
     "execution_count": 416,
     "metadata": {},
     "output_type": "execute_result"
    }
   ],
   "source": [
    "df[\"is_usb\"].value_counts()"
   ]
  },
  {
   "cell_type": "code",
   "execution_count": 417,
   "id": "ef0448a8",
   "metadata": {},
   "outputs": [
    {
     "data": {
      "text/plain": [
       "1    1919\n",
       "0      81\n",
       "Name: is_usb, dtype: int64"
      ]
     },
     "execution_count": 417,
     "metadata": {},
     "output_type": "execute_result"
    }
   ],
   "source": [
    "df[df[\"productgroup\"]==\"USB MEMORY\"].is_usb.value_counts()"
   ]
  },
  {
   "cell_type": "code",
   "execution_count": 418,
   "id": "f4a5d159",
   "metadata": {},
   "outputs": [],
   "source": [
    "df[\"is_washingmachine\"] = (\n",
    "    df[\"text\"].str.contains(\"wasch\")\n",
    "    | df[\"text\"].str.contains(\"wash\")\n",
    "    | df[\"text\"].str.contains(\"wasch\")\n",
    "    | df[\"text\"].str.contains(\"wash\")\n",
    ").astype(\"int\")"
   ]
  },
  {
   "cell_type": "code",
   "execution_count": 419,
   "id": "439fd7c2",
   "metadata": {},
   "outputs": [
    {
     "data": {
      "text/plain": [
       "0    6300\n",
       "1    1700\n",
       "Name: is_washingmachine, dtype: int64"
      ]
     },
     "execution_count": 419,
     "metadata": {},
     "output_type": "execute_result"
    }
   ],
   "source": [
    "df[\"is_washingmachine\"].value_counts()"
   ]
  },
  {
   "cell_type": "code",
   "execution_count": 420,
   "id": "93702fc8",
   "metadata": {},
   "outputs": [
    {
     "data": {
      "text/plain": [
       "1    1700\n",
       "0     300\n",
       "Name: is_washingmachine, dtype: int64"
      ]
     },
     "execution_count": 420,
     "metadata": {},
     "output_type": "execute_result"
    }
   ],
   "source": [
    "df[df[\"productgroup\"]==\"WASHINGMACHINES\"].is_washingmachine.value_counts()"
   ]
  },
  {
   "cell_type": "code",
   "execution_count": 421,
   "id": "c8f758f5",
   "metadata": {},
   "outputs": [],
   "source": [
    "df[\"is_lenses\"] = (\n",
    "    df[\"text\"].str.contains(\"linse\")\n",
    "    | df[\"text\"].str.contains(\"lenses\")\n",
    "    | df[\"text\"].str.contains(\"acuvue\")\n",
    "    | df[\"text\"].str.contains(\"acumed\")\n",
    "    | df[\"text\"].str.contains(\"contact\")\n",
    "    | df[\"text\"].str.contains(\"dailies\")\n",
    "    | df[\"text\"].str.contains(\"optix\")\n",
    "    | df[\"text\"].str.contains(\"medic\")\n",
    "    | df[\"text\"].str.contains(\"myday\")\n",
    "    | df[\"text\"].str.contains(\"vision\")\n",
    ").astype(\"int\")"
   ]
  },
  {
   "cell_type": "code",
   "execution_count": 422,
   "id": "62b699d4",
   "metadata": {},
   "outputs": [
    {
     "data": {
      "text/plain": [
       "0    6135\n",
       "1    1865\n",
       "Name: is_lenses, dtype: int64"
      ]
     },
     "execution_count": 422,
     "metadata": {},
     "output_type": "execute_result"
    }
   ],
   "source": [
    "df[\"is_lenses\"].value_counts()"
   ]
  },
  {
   "cell_type": "code",
   "execution_count": 423,
   "id": "50f6c829",
   "metadata": {},
   "outputs": [
    {
     "data": {
      "text/plain": [
       "1    1860\n",
       "0     140\n",
       "Name: is_lenses, dtype: int64"
      ]
     },
     "execution_count": 423,
     "metadata": {},
     "output_type": "execute_result"
    }
   ],
   "source": [
    "df[df[\"productgroup\"]==\"CONTACT LENSES\"].is_lenses.value_counts()"
   ]
  },
  {
   "cell_type": "code",
   "execution_count": 424,
   "id": "cd682723",
   "metadata": {},
   "outputs": [],
   "source": [
    "df[\"is_bicycle\"] = (\n",
    "    df[\"text\"].str.contains(\"bike\") \n",
    "    | df[\"text\"].str.contains(\"bicycle\")\n",
    "    | df[\"text\"].str.contains(\"fahrraeder\")\n",
    "    | df[\"text\"].str.contains(\"fahrrad\")\n",
    "    | df[\"text\"].str.contains(\"freizeit\")\n",
    "    | df[\"text\"].str.contains(\"sport\")\n",
    "    | df[\"text\"].str.contains(\"berg\")\n",
    "    | df[\"text\"].str.contains(\"city\")\n",
    "    | df[\"text\"].str.contains(\"cross\")\n",
    ").astype(\"int\")"
   ]
  },
  {
   "cell_type": "code",
   "execution_count": 425,
   "id": "f6d06ece",
   "metadata": {},
   "outputs": [
    {
     "data": {
      "text/plain": [
       "0    6496\n",
       "1    1504\n",
       "Name: is_bicycle, dtype: int64"
      ]
     },
     "execution_count": 425,
     "metadata": {},
     "output_type": "execute_result"
    }
   ],
   "source": [
    "df[\"is_bicycle\"].value_counts()"
   ]
  },
  {
   "cell_type": "code",
   "execution_count": 426,
   "id": "f59ec22d",
   "metadata": {},
   "outputs": [
    {
     "data": {
      "text/plain": [
       "1    1485\n",
       "0     515\n",
       "Name: is_bicycle, dtype: int64"
      ]
     },
     "execution_count": 426,
     "metadata": {},
     "output_type": "execute_result"
    }
   ],
   "source": [
    "df[df[\"productgroup\"]==\"BICYCLES\"].is_bicycle.value_counts()"
   ]
  },
  {
   "cell_type": "code",
   "execution_count": 466,
   "id": "05e1ac22",
   "metadata": {},
   "outputs": [],
   "source": [
    "def preprocess(df: pd.DataFrame) -> pd.DataFrame:\n",
    "    df[\"main_text\"] = df[\"main_text\"].str.lower()\n",
    "    df[\"add_text\"] = df[\"add_text\"].str.lower()\n",
    "    df[\"manufacturer\"] = df[\"manufacturer\"].str.lower()\n",
    "    df[\"manufacturer\"] = df[\"manufacturer\"].fillna(\"unknown\")\n",
    "    df[\"text\"] = df[\"main_text\"] + \" \" + df[\"add_text\"] + \" \" + df[\"manufacturer\"]\n",
    "    df[\"text\"] = df[\"text\"].fillna(\"missed\")\n",
    "    \n",
    "    df[\"is_usb\"] = (\n",
    "        df[\"text\"].str.contains(\"usb\") \n",
    "        | df[\"text\"].str.contains(\"memory\") \n",
    "        | df[\"text\"].str.contains(\"datentraeger\") \n",
    "        | df[\"text\"].str.contains(\"speicher\")\n",
    "        | df[\"text\"].str.contains(\"storage\")\n",
    "    ).astype(\"int\")\n",
    "    \n",
    "    df[\"is_washingmachine\"] = (\n",
    "        df[\"text\"].str.contains(\"wasch\")\n",
    "        | df[\"text\"].str.contains(\"wash\")\n",
    "        | df[\"text\"].str.contains(\"wasch\")\n",
    "        | df[\"text\"].str.contains(\"wash\")\n",
    "    ).astype(\"int\")\n",
    "    \n",
    "    df[\"is_lenses\"] = (\n",
    "        df[\"text\"].str.contains(\"linse\")\n",
    "        | df[\"text\"].str.contains(\"lenses\")\n",
    "        | df[\"text\"].str.contains(\"acuvue\")\n",
    "        | df[\"text\"].str.contains(\"acumed\")\n",
    "        | df[\"text\"].str.contains(\"contact\")\n",
    "        | df[\"text\"].str.contains(\"dailies\")\n",
    "        | df[\"text\"].str.contains(\"optix\")\n",
    "        | df[\"text\"].str.contains(\"medic\")\n",
    "        | df[\"text\"].str.contains(\"myday\")\n",
    "        | df[\"text\"].str.contains(\"vision\")\n",
    "    ).astype(\"int\")\n",
    "    \n",
    "    df[\"is_bicycle\"] = (\n",
    "        df[\"text\"].str.contains(\"bike\") \n",
    "        | df[\"text\"].str.contains(\"bicycle\")\n",
    "        | df[\"text\"].str.contains(\"fahrraeder\")\n",
    "        | df[\"text\"].str.contains(\"fahrrad\")\n",
    "        | df[\"text\"].str.contains(\"freizeit\")\n",
    "        | df[\"text\"].str.contains(\"sport\")\n",
    "        | df[\"text\"].str.contains(\"berg\")\n",
    "        | df[\"text\"].str.contains(\"city\")\n",
    "        | df[\"text\"].str.contains(\"cross\")\n",
    "    ).astype(\"int\")\n",
    "    \n",
    "    mapping_values = {\n",
    "        \"WASHINGMACHINES\": 0,\n",
    "        \"USB MEMORY\": 1,\n",
    "        \"BICYCLES\": 2,\n",
    "        \"CONTACT LENSES\": 3,\n",
    "    }\n",
    "    \n",
    "    df[\"productgroup\"] = df[\"productgroup\"].replace(mapping_values)\n",
    "    \n",
    "    return df"
   ]
  },
  {
   "cell_type": "code",
   "execution_count": 467,
   "id": "05fdc4e1",
   "metadata": {},
   "outputs": [],
   "source": [
    "df = pd.read_csv(\"../testset_C.csv\", sep=\";\")\n",
    "df = preprocess(df)"
   ]
  },
  {
   "cell_type": "code",
   "execution_count": 469,
   "id": "7e49eaf8",
   "metadata": {},
   "outputs": [],
   "source": [
    "features = ['is_usb', 'is_washingmachine', 'is_lenses', 'is_bicycle']\n",
    "target = \"productgroup\""
   ]
  },
  {
   "cell_type": "code",
   "execution_count": 451,
   "id": "c51ff976",
   "metadata": {},
   "outputs": [],
   "source": [
    "X = df[features]\n",
    "y = df[target]"
   ]
  },
  {
   "cell_type": "code",
   "execution_count": 475,
   "id": "b289da63",
   "metadata": {},
   "outputs": [],
   "source": [
    "X_train, X_test, y_train, y_test = train_test_split(X, y, test_size=0.3, random_state=66)"
   ]
  },
  {
   "cell_type": "code",
   "execution_count": 501,
   "id": "224b7a9e",
   "metadata": {},
   "outputs": [],
   "source": [
    "y_test.to_csv(\"testset_labels.csv\", index=False)"
   ]
  },
  {
   "cell_type": "code",
   "execution_count": 476,
   "id": "0d0334b2",
   "metadata": {},
   "outputs": [
    {
     "data": {
      "text/plain": [
       "(2    1411\n",
       " 3    1409\n",
       " 0    1393\n",
       " 1    1387\n",
       " Name: productgroup, dtype: int64,\n",
       " 1    613\n",
       " 0    607\n",
       " 3    591\n",
       " 2    589\n",
       " Name: productgroup, dtype: int64)"
      ]
     },
     "execution_count": 476,
     "metadata": {},
     "output_type": "execute_result"
    }
   ],
   "source": [
    "y_train.value_counts(), y_test.value_counts()"
   ]
  },
  {
   "cell_type": "code",
   "execution_count": 454,
   "id": "8847d2b2",
   "metadata": {},
   "outputs": [],
   "source": [
    "import xgboost as xgb"
   ]
  },
  {
   "cell_type": "code",
   "execution_count": 455,
   "id": "602cc9dc",
   "metadata": {},
   "outputs": [],
   "source": [
    "params = {\n",
    "    'objective': 'multi:softmax',  # error evaluation for multiclass training\n",
    "    'num_class': 4,\n",
    "}"
   ]
  },
  {
   "cell_type": "code",
   "execution_count": 478,
   "id": "4b758fc3",
   "metadata": {},
   "outputs": [
    {
     "data": {
      "text/html": [
       "<style>#sk-container-id-2 {color: black;background-color: white;}#sk-container-id-2 pre{padding: 0;}#sk-container-id-2 div.sk-toggleable {background-color: white;}#sk-container-id-2 label.sk-toggleable__label {cursor: pointer;display: block;width: 100%;margin-bottom: 0;padding: 0.3em;box-sizing: border-box;text-align: center;}#sk-container-id-2 label.sk-toggleable__label-arrow:before {content: \"▸\";float: left;margin-right: 0.25em;color: #696969;}#sk-container-id-2 label.sk-toggleable__label-arrow:hover:before {color: black;}#sk-container-id-2 div.sk-estimator:hover label.sk-toggleable__label-arrow:before {color: black;}#sk-container-id-2 div.sk-toggleable__content {max-height: 0;max-width: 0;overflow: hidden;text-align: left;background-color: #f0f8ff;}#sk-container-id-2 div.sk-toggleable__content pre {margin: 0.2em;color: black;border-radius: 0.25em;background-color: #f0f8ff;}#sk-container-id-2 input.sk-toggleable__control:checked~div.sk-toggleable__content {max-height: 200px;max-width: 100%;overflow: auto;}#sk-container-id-2 input.sk-toggleable__control:checked~label.sk-toggleable__label-arrow:before {content: \"▾\";}#sk-container-id-2 div.sk-estimator input.sk-toggleable__control:checked~label.sk-toggleable__label {background-color: #d4ebff;}#sk-container-id-2 div.sk-label input.sk-toggleable__control:checked~label.sk-toggleable__label {background-color: #d4ebff;}#sk-container-id-2 input.sk-hidden--visually {border: 0;clip: rect(1px 1px 1px 1px);clip: rect(1px, 1px, 1px, 1px);height: 1px;margin: -1px;overflow: hidden;padding: 0;position: absolute;width: 1px;}#sk-container-id-2 div.sk-estimator {font-family: monospace;background-color: #f0f8ff;border: 1px dotted black;border-radius: 0.25em;box-sizing: border-box;margin-bottom: 0.5em;}#sk-container-id-2 div.sk-estimator:hover {background-color: #d4ebff;}#sk-container-id-2 div.sk-parallel-item::after {content: \"\";width: 100%;border-bottom: 1px solid gray;flex-grow: 1;}#sk-container-id-2 div.sk-label:hover label.sk-toggleable__label {background-color: #d4ebff;}#sk-container-id-2 div.sk-serial::before {content: \"\";position: absolute;border-left: 1px solid gray;box-sizing: border-box;top: 0;bottom: 0;left: 50%;z-index: 0;}#sk-container-id-2 div.sk-serial {display: flex;flex-direction: column;align-items: center;background-color: white;padding-right: 0.2em;padding-left: 0.2em;position: relative;}#sk-container-id-2 div.sk-item {position: relative;z-index: 1;}#sk-container-id-2 div.sk-parallel {display: flex;align-items: stretch;justify-content: center;background-color: white;position: relative;}#sk-container-id-2 div.sk-item::before, #sk-container-id-2 div.sk-parallel-item::before {content: \"\";position: absolute;border-left: 1px solid gray;box-sizing: border-box;top: 0;bottom: 0;left: 50%;z-index: -1;}#sk-container-id-2 div.sk-parallel-item {display: flex;flex-direction: column;z-index: 1;position: relative;background-color: white;}#sk-container-id-2 div.sk-parallel-item:first-child::after {align-self: flex-end;width: 50%;}#sk-container-id-2 div.sk-parallel-item:last-child::after {align-self: flex-start;width: 50%;}#sk-container-id-2 div.sk-parallel-item:only-child::after {width: 0;}#sk-container-id-2 div.sk-dashed-wrapped {border: 1px dashed gray;margin: 0 0.4em 0.5em 0.4em;box-sizing: border-box;padding-bottom: 0.4em;background-color: white;}#sk-container-id-2 div.sk-label label {font-family: monospace;font-weight: bold;display: inline-block;line-height: 1.2em;}#sk-container-id-2 div.sk-label-container {text-align: center;}#sk-container-id-2 div.sk-container {/* jupyter's `normalize.less` sets `[hidden] { display: none; }` but bootstrap.min.css set `[hidden] { display: none !important; }` so we also need the `!important` here to be able to override the default hidden behavior on the sphinx rendered scikit-learn.org. See: https://github.com/scikit-learn/scikit-learn/issues/21755 */display: inline-block !important;position: relative;}#sk-container-id-2 div.sk-text-repr-fallback {display: none;}</style><div id=\"sk-container-id-2\" class=\"sk-top-container\"><div class=\"sk-text-repr-fallback\"><pre>XGBClassifier(base_score=0.5, booster=&#x27;gbtree&#x27;, callbacks=None,\n",
       "              colsample_bylevel=1, colsample_bynode=1, colsample_bytree=1,\n",
       "              early_stopping_rounds=None, enable_categorical=False,\n",
       "              eval_metric=None, gamma=0, gpu_id=-1, grow_policy=&#x27;depthwise&#x27;,\n",
       "              importance_type=None, interaction_constraints=&#x27;&#x27;,\n",
       "              learning_rate=0.300000012, max_bin=256, max_cat_to_onehot=4,\n",
       "              max_delta_step=0, max_depth=6, max_leaves=0, min_child_weight=1,\n",
       "              missing=nan, monotone_constraints=&#x27;()&#x27;, n_estimators=100,\n",
       "              n_jobs=0, num_class=4, num_parallel_tree=1,\n",
       "              objective=&#x27;multi:softmax&#x27;, predictor=&#x27;auto&#x27;, random_state=0, ...)</pre><b>In a Jupyter environment, please rerun this cell to show the HTML representation or trust the notebook. <br />On GitHub, the HTML representation is unable to render, please try loading this page with nbviewer.org.</b></div><div class=\"sk-container\" hidden><div class=\"sk-item\"><div class=\"sk-estimator sk-toggleable\"><input class=\"sk-toggleable__control sk-hidden--visually\" id=\"sk-estimator-id-2\" type=\"checkbox\" checked><label for=\"sk-estimator-id-2\" class=\"sk-toggleable__label sk-toggleable__label-arrow\">XGBClassifier</label><div class=\"sk-toggleable__content\"><pre>XGBClassifier(base_score=0.5, booster=&#x27;gbtree&#x27;, callbacks=None,\n",
       "              colsample_bylevel=1, colsample_bynode=1, colsample_bytree=1,\n",
       "              early_stopping_rounds=None, enable_categorical=False,\n",
       "              eval_metric=None, gamma=0, gpu_id=-1, grow_policy=&#x27;depthwise&#x27;,\n",
       "              importance_type=None, interaction_constraints=&#x27;&#x27;,\n",
       "              learning_rate=0.300000012, max_bin=256, max_cat_to_onehot=4,\n",
       "              max_delta_step=0, max_depth=6, max_leaves=0, min_child_weight=1,\n",
       "              missing=nan, monotone_constraints=&#x27;()&#x27;, n_estimators=100,\n",
       "              n_jobs=0, num_class=4, num_parallel_tree=1,\n",
       "              objective=&#x27;multi:softmax&#x27;, predictor=&#x27;auto&#x27;, random_state=0, ...)</pre></div></div></div></div></div>"
      ],
      "text/plain": [
       "XGBClassifier(base_score=0.5, booster='gbtree', callbacks=None,\n",
       "              colsample_bylevel=1, colsample_bynode=1, colsample_bytree=1,\n",
       "              early_stopping_rounds=None, enable_categorical=False,\n",
       "              eval_metric=None, gamma=0, gpu_id=-1, grow_policy='depthwise',\n",
       "              importance_type=None, interaction_constraints='',\n",
       "              learning_rate=0.300000012, max_bin=256, max_cat_to_onehot=4,\n",
       "              max_delta_step=0, max_depth=6, max_leaves=0, min_child_weight=1,\n",
       "              missing=nan, monotone_constraints='()', n_estimators=100,\n",
       "              n_jobs=0, num_class=4, num_parallel_tree=1,\n",
       "              objective='multi:softmax', predictor='auto', random_state=0, ...)"
      ]
     },
     "execution_count": 478,
     "metadata": {},
     "output_type": "execute_result"
    }
   ],
   "source": [
    "model = xgb.XGBClassifier(**params)\n",
    "model.fit(X_train, y_train)"
   ]
  },
  {
   "cell_type": "code",
   "execution_count": 482,
   "id": "c0aaf5d0",
   "metadata": {},
   "outputs": [],
   "source": [
    "pred = model.predict(X_test)"
   ]
  },
  {
   "cell_type": "code",
   "execution_count": 483,
   "id": "3d68327a",
   "metadata": {},
   "outputs": [
    {
     "name": "stdout",
     "output_type": "stream",
     "text": [
      "              precision    recall  f1-score   support\n",
      "\n",
      "           0       1.00      0.85      0.92       607\n",
      "           1       1.00      0.97      0.98       613\n",
      "           2       0.80      1.00      0.89       589\n",
      "           3       1.00      0.93      0.96       591\n",
      "\n",
      "    accuracy                           0.94      2400\n",
      "   macro avg       0.95      0.94      0.94      2400\n",
      "weighted avg       0.95      0.94      0.94      2400\n",
      "\n"
     ]
    }
   ],
   "source": [
    "print(classification_report(y_test, pred))"
   ]
  },
  {
   "cell_type": "code",
   "execution_count": 484,
   "id": "d5d1ed8f",
   "metadata": {},
   "outputs": [],
   "source": [
    "model.save_model(\"task_2_model.json\")"
   ]
  },
  {
   "cell_type": "code",
   "execution_count": 496,
   "id": "8b362924",
   "metadata": {},
   "outputs": [
    {
     "data": {
      "text/plain": [
       "array([[517,   0,  90,   0],\n",
       "       [  0, 594,  19,   0],\n",
       "       [  0,   0, 589,   0],\n",
       "       [  0,   0,  40, 551]])"
      ]
     },
     "execution_count": 496,
     "metadata": {},
     "output_type": "execute_result"
    }
   ],
   "source": [
    "confusion_matrix(y_test, pred)"
   ]
  },
  {
   "cell_type": "code",
   "execution_count": 498,
   "id": "7ceed3dc",
   "metadata": {},
   "outputs": [
    {
     "data": {
      "text/plain": [
       "0.9379166666666666"
      ]
     },
     "execution_count": 498,
     "metadata": {},
     "output_type": "execute_result"
    }
   ],
   "source": [
    "accuracy_score(y_test, pred)"
   ]
  },
  {
   "cell_type": "code",
   "execution_count": null,
   "id": "cce556de",
   "metadata": {},
   "outputs": [],
   "source": []
  }
 ],
 "metadata": {
  "kernelspec": {
   "display_name": "Python 3 (ipykernel)",
   "language": "python",
   "name": "python3"
  },
  "language_info": {
   "codemirror_mode": {
    "name": "ipython",
    "version": 3
   },
   "file_extension": ".py",
   "mimetype": "text/x-python",
   "name": "python",
   "nbconvert_exporter": "python",
   "pygments_lexer": "ipython3",
   "version": "3.9.2rc1"
  }
 },
 "nbformat": 4,
 "nbformat_minor": 5
}
